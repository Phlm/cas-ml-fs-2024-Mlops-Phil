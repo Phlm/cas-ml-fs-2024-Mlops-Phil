{
 "cells": [
  {
   "cell_type": "markdown",
   "id": "ee9c6017",
   "metadata": {},
   "source": [
    "# Aufbau der Übungen"
   ]
  },
  {
   "cell_type": "markdown",
   "id": "1e57fe08",
   "metadata": {},
   "source": [
    "Für die Vermittlung der Übungen verwenden wir einfache Jupyter Notebooks. Um die Übungen darzustellen und um sie abarbeiten zu können, muss der `exercise_server` container laufen. Dieser `exercise_server` wird aber nur dazu verwendet, durch die Übungen zu führen und Vorschläge für Musterlösungen anzuzeigen. Die Ausführung der Übungen erfolgt ausserhalb des `exercise_servers` in separaten Containern, die schrittweise eingeführt und aufgebaut werden."
   ]
  },
  {
   "cell_type": "markdown",
   "id": "770ae482",
   "metadata": {},
   "source": [
    "Einige Übungen kommen als Fragen daher, die direkt im Jupyter Notebook beantwortet werden können. Die Antwort kann anschliessend mit der Musterlösung verglichen werden."
   ]
  },
  {
   "cell_type": "markdown",
   "id": "e5e2642a",
   "metadata": {},
   "source": [
    "Für die meisten Übungen muss aber beispielsweise ein Docker Container konfiguriert oder Code geschrieben werden."
   ]
  },
  {
   "cell_type": "markdown",
   "id": "9f86f4b4",
   "metadata": {},
   "source": [
    "# Übung 1: Basis-Infrastruktur"
   ]
  },
  {
   "cell_type": "markdown",
   "id": "cc293e60",
   "metadata": {},
   "source": [
    "Zu Beginn des Workshops sieht die Infrastruktur wie in folgendem Diagramm gezeigt aus."
   ]
  },
  {
   "cell_type": "markdown",
   "id": "21ab19fd",
   "metadata": {},
   "source": [
    "![overview.png](overview.png)"
   ]
  },
  {
   "cell_type": "markdown",
   "id": "7f934e2f",
   "metadata": {},
   "source": [
    "## Service Definition"
   ]
  },
  {
   "cell_type": "markdown",
   "id": "61e347ed",
   "metadata": {},
   "source": [
    "Wir beginnen demnach mit zwei getrennten Docker-Netzwerken und drei Containern:\n",
    " * Dem Exercise Container, welchen du gerade verwendest\n",
    " * Dem Object Store\n",
    " * Der Entwicklungsumgebung in Form eines JupyterLab Servers"
   ]
  },
  {
   "cell_type": "markdown",
   "id": "3323a49a",
   "metadata": {
    "solution2": "hidden",
    "solution2_first": true
   },
   "source": [
    "Schau Dir unter den Pfaden\n",
    "* `exercises/containers`\n",
    "* `exercises/containers/development_env/`\n",
    "* `exercises/containers/minio.yml`\n",
    "\n",
    "die Dockerfiles und docker-compose (*.yml) Files der development environment und von minio an, um den Einstieg in die Workshop-Infrastruktur zu finden. Die weiteren Dockerfiles und compose Files kannst Du vorerst ignorieren. Wie ist die Hierarchie der Docker Files aufgebaut?"
   ]
  },
  {
   "cell_type": "markdown",
   "id": "e15e8da5",
   "metadata": {
    "solution2": "hidden"
   },
   "source": [
    "Im top-level compose file `docker-compose.yml` werden via Include die zwei Netzwerke definiert. Danach werden die  compose Files der einzelnen Services gelistet. Die Services sind dann im Unterordner `containers` definiert. Dort wo notwendig (d.h. wenn es ein `Dockerfile` benötigt, z.B. bei der `development_env`) in einem eigenen Verzeichnis, oder dann direkt als YAML File ohne Verzeichnis (z.B. bei `minio.yml`)"
   ]
  },
  {
   "cell_type": "markdown",
   "id": "506fe313",
   "metadata": {},
   "source": [
    "<div class=\"alert alert-block alert-info\">\n",
    "<b>Achtung: </b>Einige Dienste sind noch auskommentiert. Sie werden noch nicht benötigt, wir werden sie später schrittweise aktivieren.</div>"
   ]
  },
  {
   "cell_type": "markdown",
   "id": "d999c20c",
   "metadata": {},
   "source": [
    "----"
   ]
  },
  {
   "cell_type": "markdown",
   "id": "6c4ffbf5",
   "metadata": {
    "solution2": "hidden",
    "solution2_first": true
   },
   "source": [
    "Starte nun alle container. Dies dauert beim ersten mal einen Moment, da die Images geladen werden müssen."
   ]
  },
  {
   "cell_type": "markdown",
   "id": "d1b581e7",
   "metadata": {
    "solution2": "hidden"
   },
   "source": [
    "Dazu führt Du im Verzeichnis `/exercises`, wo sich das top-level compose file `docker-compose.yml` befindet, den Befehl\n",
    "\n",
    "    docker compose up\n",
    "\n",
    "aus. Der Prozess bleibt so im Vordergrund und Du kanst das Terminal Window offen lassen. Später kannst Du den Prozess mit `ctrl-c` einfach stoppen.\n",
    "\n",
    "Du kannst aber auch `docker compose up -d` ausführen, um den Prozess in den Hintergrund zu schicken."
   ]
  },
  {
   "cell_type": "markdown",
   "id": "5f2422c9",
   "metadata": {},
   "source": [
    "----"
   ]
  },
  {
   "cell_type": "markdown",
   "id": "fcfa97de",
   "metadata": {},
   "source": [
    "## Docker-Netzwerke"
   ]
  },
  {
   "cell_type": "markdown",
   "id": "0605f456",
   "metadata": {},
   "source": [
    "Wir simulieren eine Trennung von Entwicklungs-Umgebung und produktiver Umgebung, indem wir zwei Docker-Netzwerke definieren und jedem Container entweder dem einem oder dem anderen der beiden Netzwerke zuordnen. Nur Dienste, welche produktiv laufen, und auch aus der Entwicklungsumgebung erreichbar sein müssen, werden beiden Netzwerken zugeordnet."
   ]
  },
  {
   "cell_type": "markdown",
   "id": "bb10d436",
   "metadata": {
    "solution2": "hidden",
    "solution2_first": true
   },
   "source": [
    "Nenne einige solche Dienste, welche typischerweise sowohl dem Development- wie auch dem Production Netzwerk zugeordnet sein sollten."
   ]
  },
  {
   "cell_type": "markdown",
   "id": "493b9e8d",
   "metadata": {
    "solution2": "hidden"
   },
   "source": [
    "Einige mögliche Dienste, die aus beiden Netzwerken zugreifbar sein müssen, sind\n",
    "\n",
    "* Object Store\n",
    "* Gitlab\n",
    "* Docker Registry\n",
    "* Model Registry"
   ]
  },
  {
   "cell_type": "markdown",
   "id": "a28bafdc",
   "metadata": {},
   "source": [
    "----"
   ]
  },
  {
   "cell_type": "markdown",
   "id": "3fb01709",
   "metadata": {},
   "source": [
    "## Object Store"
   ]
  },
  {
   "cell_type": "markdown",
   "id": "b4ce9ced",
   "metadata": {},
   "source": [
    "Wir verwenden für die Datenablage einen Object Store. In Object Store speichern wir Trainingsdaten, Artefakte aus dem Trainingsprozess, Features und Predictions. Eine lokale [MinIO](https://min.io/) Instanz mit minimaler Konfiguration genügt uns hierzu. "
   ]
  },
  {
   "cell_type": "markdown",
   "id": "bcbf36ed",
   "metadata": {
    "solution2": "hidden",
    "solution2_first": true
   },
   "source": [
    "Schau Dir das Docker Compose File des Object Stores an. Welches lokale Verzeichnis wird für die Ablage der Object Store Daten verwendet?"
   ]
  },
  {
   "cell_type": "markdown",
   "id": "70fd8f6b",
   "metadata": {
    "solution2": "hidden"
   },
   "source": [
    "Im docker-compose File von minio (`containers/minio.yml`) kannst Du den volume mount finden:\n",
    "\n",
    "```\n",
    "    volumes:\n",
    "      - ../s3_data:/data\n",
    "```\n",
    "\n",
    "Daran siehst Du, dass die Daten ausserhalb des Containers im lokalen Verzeichnis `s3_data` abgelegt sind. Innerhalb des Containers liegen die Daten im Verzeichnis `/data`. In der command direktive sieht man, dass dem minio daemon das Verzeichnis `/data` beim Start als Argument angegeben wird:\n",
    "\n",
    "```\n",
    "command: server --address \"0.0.0.0:9000\" /data\n",
    "```"
   ]
  },
  {
   "cell_type": "markdown",
   "id": "a13a7c72",
   "metadata": {},
   "source": [
    "----"
   ]
  },
  {
   "cell_type": "markdown",
   "id": "73ce37c7",
   "metadata": {},
   "source": [
    "# Development Environment"
   ]
  },
  {
   "cell_type": "markdown",
   "id": "8c1a63f3",
   "metadata": {},
   "source": [
    "Wir simulieren die Entwicklungsumgebung, in welcher Data Scientists Analysen durchführen und Modelle entwickeln, mit einem einzelnen Container, welcher eine Jupyter Umgebung zur Verfügung stellt. Im Rahmen des Workshops reicht dies vollkommen aus. In der Realität wäre eine Entwicklungsumgebung natürlich etwas komplexer, mindestens eine IDE und GPUs müssten neben einer Jupyter-Umgebung auch noch zur Verfügung stehen."
   ]
  },
  {
   "cell_type": "markdown",
   "id": "12d9c239",
   "metadata": {
    "solution2": "hidden",
    "solution2_first": true
   },
   "source": [
    "Schau Dir das docker-compose File der Entwicklungsumgebung an, um die URL und den Port zu finden, über den du auf Jupyterlab zugreifst."
   ]
  },
  {
   "cell_type": "markdown",
   "id": "5acff4a2",
   "metadata": {
    "solution2": "hidden"
   },
   "source": [
    "Im File `development_env/development_env.yml` findest Du den Abschnitt \n",
    "\n",
    "```\n",
    "      ports:\n",
    "         - 127.0.0.1:8080:8888\n",
    "```\n",
    "\n",
    "Der Port, unter welchem Jupyterlab im Container läuft, ist 8888. Er wird auf den Port 8080 ausserhalb des Containers gemappt. Du kannst also via die URL [http://localhost:8080](http://localhost:8080) auf die Entwicklungsumgebung zugreifen."
   ]
  },
  {
   "cell_type": "markdown",
   "id": "20121d59",
   "metadata": {},
   "source": [
    "----"
   ]
  },
  {
   "cell_type": "markdown",
   "id": "ea5503b1",
   "metadata": {},
   "source": [
    "Greife via Browser auf die Entwicklungsumgebung zu. Du kannst direkt einloggen, ohne ein Token oder andere Credentials angeben zu müssen. Das wurde aus Bequemlichkeitsgründen für den Workshop so konfiguriert. In einer richtigen Installation sollte natürlich eine Autorisierung und Authentifizierung aktiviert werden."
   ]
  },
  {
   "cell_type": "markdown",
   "id": "e362a81e",
   "metadata": {
    "solution2": "hidden",
    "solution2_first": true
   },
   "source": [
    "Versuche herauszufinden, wie bzw. wo die Autorisierung für Jupyter deaktiviert wurde."
   ]
  },
  {
   "cell_type": "markdown",
   "id": "6020602a",
   "metadata": {
    "solution2": "hidden"
   },
   "source": [
    "Du findest die Konfiguration direkt im Dockerfile:\n",
    "\n",
    "```\n",
    "# generate a config directory and the default config\n",
    "RUN jupyter notebook --generate-config\n",
    "\n",
    "# configure jupyter for easy access (don't do this in production!!!)\n",
    "RUN echo \"c.NotebookApp.open_browser = False\" >> /root/.jupyter/jupyter_notebook_config.py && \\\n",
    "    echo \"c.JupyterApp.answer_yes = True\" >> /root/.jupyter/jupyter_notebook_config.py && \\\n",
    "    echo \"c.NotebookApp.ip = '*'\" >> /root/.jupyter/jupyter_notebook_config.py && \\\n",
    "    echo \"c.NotebookApp.allow_origin = '*'\" >> /root/.jupyter/jupyter_notebook_config.py && \\\n",
    "    echo \"c.NotebookApp.token = ''\" >> /root/.jupyter/jupyter_notebook_config.py && \\\n",
    "    echo \"c.NotebookApp.password = ''\" >> /root/.jupyter/jupyter_notebook_config.py\n",
    "```"
   ]
  },
  {
   "cell_type": "markdown",
   "id": "68dd5297",
   "metadata": {},
   "source": [
    "----"
   ]
  },
  {
   "cell_type": "markdown",
   "id": "9891f7c3",
   "metadata": {},
   "source": [
    "Greife nun mit Deinem Browser auf die Entwicklungsumgebung zu. Du solltest folgendes sehen:"
   ]
  },
  {
   "cell_type": "markdown",
   "id": "674c5cda",
   "metadata": {},
   "source": [
    "![jupyter.png](jupyter.png)"
   ]
  },
  {
   "cell_type": "markdown",
   "id": "7a4f236d",
   "metadata": {},
   "source": [
    "Du kannst auch ein Jupyterlab öffnen, wenn du das lieber verwendest:"
   ]
  },
  {
   "cell_type": "markdown",
   "id": "cec81fdb",
   "metadata": {},
   "source": [
    "![jupyter_open_lab.png](jupyter_open_lab.png)"
   ]
  },
  {
   "cell_type": "markdown",
   "id": "69c5e48e",
   "metadata": {},
   "source": [
    "![jupyterlab.png](jupyterlab.png)"
   ]
  },
  {
   "cell_type": "markdown",
   "id": "32fbaf6d",
   "metadata": {},
   "source": [
    "Halten wir noch einmal den Unterschied zwischen den beiden Jupyter Servern fest:\n",
    " * Der `exercise_server` dient dazu, durch die Übungen zu führen. In ihm siehst du den Übungsablauf und allfällige Lösungsvorschläge. Du greifst via Port 8888 auf den Exercise Server zu.\n",
    " * Die `Development Environment` ist Teil der Infrastruktur, die wir im Workshop nach und nach aufbauen bzw. konfigurieren. Sie dient dazu, die Umgebung zu simulieren, in welcher Data Scientists Analysen durchführen und Machine Learning Modelle bauen und trainieren."
   ]
  },
  {
   "cell_type": "markdown",
   "id": "074842cf",
   "metadata": {
    "solution2": "hidden",
    "solution2_first": true
   },
   "source": [
    "Verwende nun die Entwicklungsumgebung, um ein neues Jupyter Notebook zu erstellen. Nenne es `hello_world.ipynb` und lasse es ein Hello World ausgeben."
   ]
  },
  {
   "cell_type": "markdown",
   "id": "6de2802f",
   "metadata": {
    "solution2": "hidden"
   },
   "source": [
    "Das kriegst Du auch ohne Musterlösung hin ;-)"
   ]
  },
  {
   "cell_type": "markdown",
   "id": "1c9be66b",
   "metadata": {},
   "source": [
    "----"
   ]
  },
  {
   "cell_type": "markdown",
   "id": "595d0ade",
   "metadata": {},
   "source": [
    "# Lesen und Schreiben aus dem Object Store"
   ]
  },
  {
   "cell_type": "markdown",
   "id": "467ef5b1",
   "metadata": {},
   "source": [
    "Wir verwenden `s3fs`, um Files in den Object Store zu schreiben und aus ihm zu lesen. Du findest die Dokumentation [hier](https://s3fs.readthedocs.io/en/latest/)."
   ]
  },
  {
   "cell_type": "markdown",
   "id": "78c57482",
   "metadata": {
    "solution2": "hidden",
    "solution2_first": true
   },
   "source": [
    "Öffne nun ein neues Notebook in der Development Environment (oder recycle das vorherige helloworld Notebook) um ein wenig Übung im Umgang mit dem Object Store zu bekommen:\n",
    " * Erstelle einen bucket\n",
    " * Schreibe ein Textfile in diesen bucket\n",
    " * Zeige den Inhalt des Buckets an\n",
    " * Probiere einige weitere Befehle des [APIs](https://s3fs.readthedocs.io/en/latest/api.html) aus"
   ]
  },
  {
   "cell_type": "markdown",
   "id": "22cb4542",
   "metadata": {
    "solution2": "hidden"
   },
   "source": [
    "Hier ist ein Codebeispiel. Beachte jedoch, dass du diese Codezelle  nicht direkt aus diesem Notebook heraus ausführen kannst."
   ]
  },
  {
   "cell_type": "code",
   "execution_count": null,
   "id": "8ef21f84",
   "metadata": {
    "solution2": "hidden"
   },
   "outputs": [],
   "source": [
    "import s3fs\n",
    "\n",
    "# create a reference to the object store\n",
    "s3 = s3fs.S3FileSystem()\n",
    "\n",
    "# create a bucket\n",
    "s3.mkdir(\"mybucket\")\n",
    "\n",
    "# write a file. According to the documentation, only binary mode works, although writing a string directly seems to work as well\n",
    "with s3.open('mybucket/hello.txt', 'wb') as f:\n",
    "    f.write(r'Hello World'.encode('utf-8'))\n",
    "\n",
    "# some more commands\n",
    "s3.ls('mybucket')\n",
    "s3.du('mybucket/hello.txt')"
   ]
  },
  {
   "cell_type": "markdown",
   "id": "54c0a9e5",
   "metadata": {},
   "source": [
    "----"
   ]
  },
  {
   "cell_type": "markdown",
   "id": "2704eb12",
   "metadata": {
    "solution2": "hidden",
    "solution2_first": true
   },
   "source": [
    "Kannst Du erklären, wie die Autorisierung und die Verbindung funktioniert?"
   ]
  },
  {
   "cell_type": "markdown",
   "id": "b26a73fa",
   "metadata": {
    "solution2": "hidden"
   },
   "source": [
    "Im docker-compose File der Entwicklungsumgebung siehst du, dass die folgenden Umgebungsvariablen gesetzt werden:\n",
    "\n",
    "```\n",
    "      environment:\n",
    "        - FSSPEC_S3_KEY=${MINIO_ADMIN}\n",
    "        - FSSPEC_S3_SECRET=${MINIO_SECRET}\n",
    "        - FSSPEC_S3_ENDPOINT_URL=${MINIO_ENDPOINT}\n",
    "```\n",
    "\n",
    "Durchsucht man die s3fs Dokumentation nach der ersten dieser drei Variablen, [findet man](https://s3fs.readthedocs.io/en/latest/index.html?highlight=FSSPEC_S3_KEY#s3-compatible-storage), dass diese Variablen, wenn vorhanden, beim Erstellen des s3 Objectes mit `s3fs.S3FileSystem()` verwendet werden, um die Credentials und den Endpoint zu setzen. Deshalb musstest du bei der obigen Übung diese Infos nicht explizit angeben.\n",
    "\n",
    "Wenn du nun das docker-compose File des Object Stores anschaust, siehst du dass dem Server beim Start gesagt wird, er solle auf Port 9000 hören und via Umgebungsvariablen Username und Passwort des root Users mitgeteilt werden. Wir verwenden hier der Einfachheit halber für alles diesen User, was in der Praxis natürlich nicht gemacht wird.\n",
    "\n",
    "\n",
    "```\n",
    "    command: server --address \"0.0.0.0:9000\" /data\n",
    "    hostname: objectstore\n",
    "    expose:\n",
    "      - \"9000\"\n",
    "    environment:\n",
    "      - MINIO_ROOT_USER=${MINIO_ADMIN}\n",
    "      - MINIO_ROOT_PASSWORD=${MINIO_SECRET}\n",
    "    volumes:\n",
    "      - ../s3_data:/data\n",
    "    networks:\n",
    "      - development\n",
    "      - production\n",
    "```"
   ]
  },
  {
   "cell_type": "markdown",
   "id": "a37c30e9",
   "metadata": {},
   "source": [
    "----"
   ]
  },
  {
   "cell_type": "markdown",
   "id": "37dbb34e",
   "metadata": {
    "solution2": "hidden",
    "solution2_first": true
   },
   "source": [
    "Und wo werden Usernamen, Secret und Endpoint effektiv gesetzt?"
   ]
  },
  {
   "cell_type": "markdown",
   "id": "43987546",
   "metadata": {
    "solution2": "hidden"
   },
   "source": [
    "Die effektiven Werte für Passwort und Endpoint werden in einem .env File gesetzt:\n",
    "\n",
    "```\n",
    "$ cat .env\n",
    "MINIO_ADMIN=xxx\n",
    "MINIO_SECRET=xxx\n",
    "MINIO_ENDPOINT=http://objectstore:9000\n",
    "```\n",
    "\n",
    "Docker-compose [verwendet dieses .env File](https://docs.docker.com/compose/environment-variables/set-environment-variables/#use-the-env_file-attribute), um die Platzhalter entsprechend zu befüllen."
   ]
  },
  {
   "cell_type": "markdown",
   "id": "d6d0cd90",
   "metadata": {},
   "source": [
    " "
   ]
  },
  {
   "cell_type": "markdown",
   "id": "6be50073",
   "metadata": {},
   "source": [
    "----"
   ]
  },
  {
   "cell_type": "markdown",
   "id": "4abdef95",
   "metadata": {},
   "source": [
    "## Zusammenfassung"
   ]
  },
  {
   "cell_type": "markdown",
   "id": "e97d92b1",
   "metadata": {},
   "source": [
    "Wir starten also mit der folgenden Infrastruktur:"
   ]
  },
  {
   "cell_type": "markdown",
   "id": "d12f818f",
   "metadata": {},
   "source": [
    "![summary.png](summary.png)"
   ]
  },
  {
   "cell_type": "markdown",
   "id": "7f7a9153",
   "metadata": {},
   "source": [
    "Der Zweck des Exercise Servers ist, durch die Übungen zu führen. Er ist nich mit dem Rest der Infrastruktur verbunden, in den Notebooks des Exercise Servers kann kein Code ausgeführt werden.\n",
    "\n",
    "Die Umsetzung der Übungen erfolgt in Containern, welche den Docker Netzwerken `Development` oder `Production` zugeordnet sind.\n",
    "\n",
    "Bisher haben wir den Object Store, welcher aus beiden beiden Netzwerken verwendbar ist und die Entwicklungsumgebung, die nur auf das  Enticklungsnetzwerk Zugriff hat.\n",
    "\n",
    "Im Laufe des Workshops werden weitere Dienste hinzukommen."
   ]
  },
  {
   "cell_type": "markdown",
   "id": "f77eef8d",
   "metadata": {},
   "source": [
    "Damit ist die erste Übung abgeschlossen. **Bitte quittiere auf [Mentimeter](https://www.menti.com/alaxbnek73eu), dass du mit der Übung durch bist**, damit der Dozent eine Idee hat, wieviele Teilnehmer die Übung abgeschlossen haben."
   ]
  },
  {
   "cell_type": "markdown",
   "id": "50aac9a6",
   "metadata": {},
   "source": [
    "Du kannst nun gleich mit der nächsten Übung weiterfahren: `07_Ein_einfaches_Modell_Code.ipynb`"
   ]
  }
 ],
 "metadata": {
  "kernelspec": {
   "display_name": "Python 3 (ipykernel)",
   "language": "python",
   "name": "python3"
  },
  "language_info": {
   "codemirror_mode": {
    "name": "ipython",
    "version": 3
   },
   "file_extension": ".py",
   "mimetype": "text/x-python",
   "name": "python",
   "nbconvert_exporter": "python",
   "pygments_lexer": "ipython3",
   "version": "3.12.2"
  }
 },
 "nbformat": 4,
 "nbformat_minor": 5
}
